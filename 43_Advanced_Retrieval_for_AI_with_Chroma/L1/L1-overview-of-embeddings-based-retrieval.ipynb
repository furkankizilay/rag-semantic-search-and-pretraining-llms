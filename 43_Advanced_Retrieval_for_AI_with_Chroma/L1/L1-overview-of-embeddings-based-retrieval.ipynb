{
 "cells": [
  {
   "cell_type": "markdown",
   "id": "ec889d86-0d16-477f-8b7f-be03d73ad957",
   "metadata": {},
   "source": [
    "# Lab 1 - Overview of embeddings-based retrieval"
   ]
  },
  {
   "cell_type": "markdown",
   "id": "58ee2f53-d88b-4f00-94a2-75a66d4149e9",
   "metadata": {},
   "source": [
    "Welcome! Here's a few notes about the Chroma course notebooks.\n",
    " - A number of warnings pop up when running the notebooks. These are normal and can be ignored.\n",
    " - Some operations such as calling an LLM or an opeation using generated data return unpredictable results and so your notebook outputs may differ from the video.\n",
    "  \n",
    "Enjoy the course!"
   ]
  },
  {
   "cell_type": "code",
   "execution_count": 1,
   "id": "5a5536f0-651c-40e7-aa15-27ee0cda80b7",
   "metadata": {
    "height": 30
   },
   "outputs": [],
   "source": [
    "from helper_utils import word_wrap"
   ]
  },
  {
   "cell_type": "code",
   "execution_count": 2,
   "id": "3748b16d-d4a7-49c3-a48a-57dcfc42acd6",
   "metadata": {
    "height": 166
   },
   "outputs": [
    {
     "name": "stdout",
     "output_type": "stream",
     "text": [
      "1 \n",
      "Dear shareholders, colleagues, customers, and partners:  \n",
      "We are\n",
      "living through a period of historic economic, societal, and\n",
      "geopolitical change. The world in 2022 looks nothing like \n",
      "the world in\n",
      "2019. As I write this, inflation is at a 40 -year high, supply chains\n",
      "are stretched, and the war in Ukraine is \n",
      "ongoing. At the same time, we\n",
      "are entering a technological era with the potential to power awesome\n",
      "advancements \n",
      "across every sector of our economy and society. As the\n",
      "world’s largest software company, this places us at a historic\n",
      "\n",
      "intersection of opportunity and responsibility to the world around us.\n",
      " \n",
      "Our mission to empower every person and every organization on the\n",
      "planet to achieve more has never been more \n",
      "urgent or more necessary.\n",
      "For all the uncertainty in the world, one thing is clear: People and\n",
      "organizations in every \n",
      "industry are increasingly looking to digital\n",
      "technology to overcome today’s challenges and emerge stronger. And no\n",
      "\n",
      "company is better positioned to help them than Microsoft.  \n",
      "Every day\n",
      "this past fiscal year I have had the privilege to witness our customers\n",
      "use our platforms and tools to connect \n",
      "what technology can do with\n",
      "what the world needs it to do.  \n",
      "Here are just a few examples:  \n",
      "•\n",
      "Ferrovial, which builds and manages some of the world’s busiest\n",
      "airports and highways, is using our cloud \n",
      "infrastructure to build\n",
      "safer roads as it prepares for a future of autonomous transportation. \n",
      "\n",
      "• Peace Parks Foundation, a nonprofit helping protect natural\n",
      "ecosystems in Southern Africa, is using Microsoft \n",
      "Dynamics 365 and\n",
      "Power BI to secure essential funding, as well as our Azure AI and IoT\n",
      "solutions to help \n",
      "rangers scale their park maintenance and wildlife\n",
      "crime prevention work.  \n",
      "• One of the world’s largest robotics\n",
      "companies, Kawasaki Heavy Industries, is using the breadth of our tools\n",
      "—\n",
      "from Azure IoT and HoloLens—to create an industrial metaverse\n",
      "solution that brings its distributed workforce \n",
      "together with its\n",
      "network of connected equipment to improve productivity and keep\n",
      "employees safe.  \n",
      "• Globo, the biggest media and TV company in Brazil,\n",
      "is using Power Platform to empower its employees to \n",
      "build their own\n",
      "solutions for everything from booking sets to setting schedules.  \n",
      "•\n",
      "And Ørsted, which produces a quarter of the world’s wind energy, is\n",
      "using the Microsoft Intelligent Data \n",
      "Platform to turn data from its\n",
      "offshore turbines into insights for predictive maintenance.  \n",
      "Amid this\n",
      "dynamic environment, we delivered record results in fiscal year 2022:\n",
      "We reported $198  billion in revenue and \n",
      "$83 billion in operating\n",
      "income. And the Microsoft Cloud surpassed $100 billion in annualized\n",
      "revenue for the first time.  \n",
      "OUR RESPONSIBILITY  \n",
      "As a corporation,\n",
      "our purpose and actions must be aligned with addressing the world’s\n",
      "problems, not creating new ones. \n",
      "At our very core, we need to deliver\n",
      "innovation that helps drive broad economic growth. We, as a company,\n",
      "will do well \n",
      "when the world around us does well.  \n",
      "That’s what I\n",
      "believe will lead to widespread human progress and ultimately improve\n",
      "the lives of everyone. There is no \n",
      "more powerful input than digital\n",
      "technology to drive the world’s economic output. This is the core\n",
      "thesis for our being as a \n",
      "company, but it’s not enough. As we drive\n",
      "global economic growth, we must also commit to creating a more\n",
      "inclusive, \n",
      "equitable, sustainable, and trusted future.  \n",
      "Support\n",
      "inclusive economic growth  \n",
      "We must ensure the growth we drive reaches\n",
      "every person, organization, community, and country. This starts with\n",
      "\n",
      "increasing access to digital skills. This year alone, more than 23 \n",
      "million people accessed digital skills training as part of \n",
      "our global\n",
      "skills initiative.\n"
     ]
    }
   ],
   "source": [
    "from pypdf import PdfReader\n",
    "\n",
    "reader = PdfReader(\"microsoft_annual_report_2022.pdf\")\n",
    "pdf_texts = [p.extract_text().strip() for p in reader.pages]\n",
    "\n",
    "# Filter the empty strings\n",
    "pdf_texts = [text for text in pdf_texts if text]\n",
    "\n",
    "print(word_wrap(pdf_texts[0]))"
   ]
  },
  {
   "cell_type": "markdown",
   "id": "bbd608a5-b6c9-4ae9-a871-a3e470a4d12a",
   "metadata": {},
   "source": [
    "You can view the pdf in your browser [here](./microsoft_annual_report_2022.pdf) if you would like. "
   ]
  },
  {
   "cell_type": "code",
   "execution_count": 3,
   "id": "a338ec83-6301-41a5-9ab1-e5d583306a3f",
   "metadata": {
    "height": 47
   },
   "outputs": [],
   "source": [
    "from langchain.text_splitter import RecursiveCharacterTextSplitter, SentenceTransformersTokenTextSplitter"
   ]
  },
  {
   "cell_type": "code",
   "execution_count": 4,
   "id": "888a86f8-2fe2-4682-bdaf-c15129ed1a32",
   "metadata": {
    "height": 166
   },
   "outputs": [
    {
     "name": "stdout",
     "output_type": "stream",
     "text": [
      "increased, due in large part to significant global datacenter\n",
      "expansions and the growth in Xbox sales and usage. Despite \n",
      "these\n",
      "increases, we remain dedicated to achieving a net -zero future. We\n",
      "recognize that progress won’t always be linear, \n",
      "and the rate at which\n",
      "we can implement emissions reductions is dependent on many factors that\n",
      "can fluctuate over time.  \n",
      "On the path to becoming water positive, we\n",
      "invested in 21 water replenishment projects that are expected to\n",
      "generate \n",
      "over 1.3 million cubic meters of volumetric benefits in nine\n",
      "water basins around the world. Progress toward our zero waste\n",
      "\n",
      "commitment included diverting more than 15,200 metric tons of solid\n",
      "waste otherwise headed to landfills and incinerators, \n",
      "as well as\n",
      "launching new Circular Centers to increase reuse and reduce e-waste at\n",
      "our datacenters.  \n",
      "We contracted to protect over 17,000 acres of land\n",
      "(50% more than the land we use to operate), thus achieving our\n",
      "\n",
      "Total chunks: 344\n"
     ]
    }
   ],
   "source": [
    "character_splitter = RecursiveCharacterTextSplitter(\n",
    "    separators=[\"\\n\\n\", \"\\n\", \". \", \" \", \"\"],\n",
    "    chunk_size=1000,\n",
    "    chunk_overlap=0\n",
    ")\n",
    "character_split_texts = character_splitter.split_text('\\n\\n'.join(pdf_texts))\n",
    "\n",
    "print(word_wrap(character_split_texts[10]))\n",
    "print(f\"\\nTotal chunks: {len(character_split_texts)}\")"
   ]
  },
  {
   "cell_type": "code",
   "execution_count": 5,
   "id": "5665c695-22ea-4264-b1ac-5ba720b6d78b",
   "metadata": {
    "height": 149
   },
   "outputs": [
    {
     "name": "stderr",
     "output_type": "stream",
     "text": [
      "/Users/mdp/Desktop/furkan/nlp/nlp-tutorials/43_Advanced_Retrieval_for_AI_with_Chroma/.venv/lib/python3.13/site-packages/tqdm/auto.py:21: TqdmWarning: IProgress not found. Please update jupyter and ipywidgets. See https://ipywidgets.readthedocs.io/en/stable/user_install.html\n",
      "  from .autonotebook import tqdm as notebook_tqdm\n"
     ]
    },
    {
     "name": "stdout",
     "output_type": "stream",
     "text": [
      "increased, due in large part to significant global datacenter\n",
      "expansions and the growth in xbox sales and usage. despite these\n",
      "increases, we remain dedicated to achieving a net - zero future. we\n",
      "recognize that progress won ’ t always be linear, and the rate at which\n",
      "we can implement emissions reductions is dependent on many factors that\n",
      "can fluctuate over time. on the path to becoming water positive, we\n",
      "invested in 21 water replenishment projects that are expected to\n",
      "generate over 1. 3 million cubic meters of volumetric benefits in nine\n",
      "water basins around the world. progress toward our zero waste\n",
      "commitment included diverting more than 15, 200 metric tons of solid\n",
      "waste otherwise headed to landfills and incinerators, as well as\n",
      "launching new circular centers to increase reuse and reduce e - waste\n",
      "at our datacenters. we contracted to protect over 17, 000 acres of land\n",
      "( 50 % more than the land we use to operate ), thus achieving our\n",
      "\n",
      "Total chunks: 349\n"
     ]
    }
   ],
   "source": [
    "token_splitter = SentenceTransformersTokenTextSplitter(chunk_overlap=0, tokens_per_chunk=256)\n",
    "\n",
    "token_split_texts = []\n",
    "for text in character_split_texts:\n",
    "    token_split_texts += token_splitter.split_text(text)\n",
    "\n",
    "print(word_wrap(token_split_texts[10]))\n",
    "print(f\"\\nTotal chunks: {len(token_split_texts)}\")"
   ]
  },
  {
   "cell_type": "code",
   "execution_count": 6,
   "id": "c2a13d14-4484-46f0-8e67-277337f9d138",
   "metadata": {
    "height": 98
   },
   "outputs": [
    {
     "name": "stdout",
     "output_type": "stream",
     "text": [
      "[array([ 4.25627008e-02,  3.32117938e-02,  3.03400997e-02, -3.48665714e-02,\n",
      "        6.84165135e-02, -8.09091628e-02, -1.54743912e-02, -1.45090325e-03,\n",
      "       -1.67444684e-02,  6.77076876e-02, -5.05413711e-02, -4.91953380e-02,\n",
      "        5.13999276e-02,  9.19272974e-02, -7.17783943e-02,  3.95197086e-02,\n",
      "       -1.28335292e-02, -2.49475017e-02, -4.62286770e-02, -2.43574958e-02,\n",
      "        3.39497179e-02,  2.55024340e-02,  2.73171123e-02, -4.12619580e-03,\n",
      "       -3.63383517e-02,  3.69087048e-03, -2.74304710e-02,  4.79672197e-03,\n",
      "       -2.88961995e-02, -1.88707691e-02,  3.66663188e-02,  2.56958473e-02,\n",
      "        3.13128494e-02, -6.39343560e-02,  5.39440401e-02,  8.22534785e-02,\n",
      "       -4.17568944e-02, -6.99581346e-03, -2.34860014e-02, -3.07479445e-02,\n",
      "       -2.97923968e-03, -7.79094175e-02,  9.35315061e-03,  3.16287694e-03,\n",
      "       -2.22571064e-02, -1.82947032e-02, -9.61245224e-03, -3.15068439e-02,\n",
      "       -5.51964622e-03, -3.27029899e-02,  1.68029726e-01, -4.74596173e-02,\n",
      "       -5.00168242e-02, -2.65968801e-03, -4.10472229e-02, -7.00394660e-02,\n",
      "        1.82959493e-02, -3.14311311e-02, -4.74111922e-02, -2.36636437e-02,\n",
      "        5.94494976e-02, -7.20143989e-02,  4.94522834e-03, -5.53270057e-02,\n",
      "        8.74548405e-02,  2.78726630e-02, -3.97726372e-02,  3.45299542e-02,\n",
      "       -9.99202952e-02,  3.28976214e-02, -5.78041896e-02,  2.45467410e-03,\n",
      "       -2.78923102e-02, -4.99469899e-02, -4.05824594e-02,  1.19175585e-02,\n",
      "        2.04191096e-02,  7.76539892e-02,  6.35161623e-02,  1.75468940e-02,\n",
      "        2.34610029e-02, -7.91656598e-03,  1.70742124e-02,  8.64122808e-03,\n",
      "       -6.81533888e-02,  3.42961662e-02,  6.46511500e-04,  2.27353871e-02,\n",
      "        5.27936034e-02, -5.85731938e-02, -9.78410095e-02, -1.47184252e-03,\n",
      "        1.37398884e-01,  2.07948987e-03, -7.58151487e-02,  5.78657575e-02,\n",
      "       -6.06964231e-02, -6.59576282e-02, -3.36505435e-02, -3.18592452e-02,\n",
      "        1.22665530e-02,  9.37330276e-02,  6.79951087e-02, -8.43403339e-02,\n",
      "        4.40247133e-02, -4.26387489e-02,  1.11630540e-02,  1.05052158e-01,\n",
      "        2.95058135e-02, -1.85211431e-02, -2.96882931e-02, -3.37703004e-02,\n",
      "        1.49668287e-03,  3.73236910e-02, -2.02496890e-02,  5.84207959e-02,\n",
      "       -3.97915952e-02, -2.12196819e-02,  6.41808426e-03, -1.02901421e-02,\n",
      "        1.96261425e-02,  3.67972883e-03, -5.03109768e-02, -1.68970656e-02,\n",
      "        4.85450141e-02,  6.68231025e-02,  1.95363127e-02,  2.72275312e-33,\n",
      "       -3.59341055e-02,  1.56618860e-02,  9.67765450e-02, -2.85129645e-04,\n",
      "       -9.76848975e-03, -9.06847119e-02,  1.44863129e-02,  1.25907110e-02,\n",
      "        2.54358072e-02, -3.44348364e-02,  4.26291628e-03,  2.71213949e-02,\n",
      "       -2.04100162e-02,  7.68848583e-02,  3.57210264e-02, -1.34925380e-01,\n",
      "        5.65784834e-02,  1.83645170e-02,  2.25778315e-02, -3.58902924e-02,\n",
      "       -1.14567289e-02, -4.99383882e-02, -1.60124190e-02, -6.33537248e-02,\n",
      "        1.04639582e-01, -8.80159959e-02, -4.46231524e-03, -1.03010228e-02,\n",
      "       -1.76307391e-02, -2.02922765e-02,  6.70424430e-03,  9.17234495e-02,\n",
      "       -7.79507542e-03,  5.94948744e-03, -1.53488507e-02,  1.82795767e-02,\n",
      "       -1.89214963e-02,  3.98752987e-02, -3.96730937e-03,  3.34192999e-02,\n",
      "       -5.60772344e-02,  7.58126080e-02, -5.62547147e-03, -5.44552281e-02,\n",
      "        6.69844151e-02, -2.59743650e-02,  1.11995563e-01, -3.64213958e-02,\n",
      "        5.01253782e-03,  3.20100263e-02,  4.96369265e-02,  9.71159860e-02,\n",
      "       -1.15469441e-01,  6.41327575e-02, -3.39787491e-02, -9.29156244e-02,\n",
      "        4.97547723e-02, -8.61341730e-02, -8.36630259e-03, -1.37037113e-02,\n",
      "       -7.88280144e-02,  1.96543820e-02, -3.71504575e-02,  1.44761764e-02,\n",
      "       -4.94031273e-02,  5.34924120e-02,  9.13901776e-02,  3.10028773e-02,\n",
      "        3.02876625e-02,  2.13428158e-02, -4.39377315e-02, -4.29744236e-02,\n",
      "       -2.26504239e-03, -2.19440740e-02,  5.47460560e-03, -1.02439532e-02,\n",
      "        2.16779429e-02, -2.73236316e-02, -7.88170495e-04,  3.30891199e-02,\n",
      "       -7.40241213e-03,  9.82999988e-03,  1.35441236e-02, -3.27448584e-02,\n",
      "        5.60190231e-02, -6.01165183e-02,  3.11219580e-02,  3.44224162e-02,\n",
      "        2.65504867e-02, -6.80790376e-03, -1.10542579e-02, -1.44399013e-02,\n",
      "        2.27854159e-02, -2.79519986e-02, -1.62090436e-02, -3.68925339e-33,\n",
      "        2.92036906e-02,  4.67048362e-02, -4.96441685e-02,  6.32448792e-02,\n",
      "        2.84380130e-02, -2.23572012e-02,  3.34798694e-02, -1.84787028e-02,\n",
      "        1.87800732e-02,  2.41163396e-03, -8.16784203e-02,  1.00841694e-01,\n",
      "        4.90231700e-02,  3.64673249e-02, -4.55604270e-02, -7.04919323e-02,\n",
      "        2.53405012e-02, -3.26794237e-02, -4.29649577e-02, -7.25102797e-02,\n",
      "        4.13071029e-02,  5.04972488e-02,  6.47720788e-03, -3.32496944e-03,\n",
      "       -8.23566169e-02,  8.00771490e-02, -3.46539207e-02,  8.47046264e-03,\n",
      "        4.13894802e-02, -1.01476852e-02, -1.02896638e-01,  4.56712618e-02,\n",
      "        1.27960928e-02, -6.01776093e-02, -2.66278554e-02, -9.72523615e-02,\n",
      "        1.57986619e-02,  7.21912980e-02, -1.53258210e-02,  1.80706114e-03,\n",
      "        6.03953637e-02, -7.07763955e-02, -2.12787353e-02, -3.85162979e-02,\n",
      "       -5.74111082e-02, -4.25385404e-03,  3.28076631e-02, -1.75955463e-02,\n",
      "        4.97576781e-02, -7.37900240e-03, -8.35460052e-03,  4.31378484e-02,\n",
      "       -5.42915538e-02,  4.31622118e-02,  2.36885194e-02,  1.81716308e-02,\n",
      "        9.28221196e-02, -4.22297744e-03, -2.25145891e-02,  1.92883275e-02,\n",
      "       -3.68443765e-02,  1.00151911e-01,  1.77647322e-02,  2.28495505e-02,\n",
      "       -3.96768525e-02,  1.68078835e-03,  5.06692044e-02,  8.56492892e-02,\n",
      "       -2.64135152e-02, -3.26685905e-02, -3.69496234e-02, -2.09940504e-02,\n",
      "        1.77661180e-02, -7.41306767e-02, -2.46881545e-02, -3.99489142e-02,\n",
      "       -2.47680023e-02, -2.41940506e-02, -1.08164260e-02,  1.08160404e-02,\n",
      "       -3.05517688e-02,  1.05193704e-01, -8.02174397e-03, -3.28962468e-02,\n",
      "        1.48043901e-01, -7.09429830e-02, -5.02191149e-02, -1.52318910e-01,\n",
      "        2.27674320e-02,  1.38459548e-01, -7.92331174e-02, -4.16010693e-02,\n",
      "       -9.37167779e-02,  6.60183057e-02,  4.35204208e-02, -4.99797039e-08,\n",
      "       -1.05480533e-02,  6.00802712e-02,  2.88234930e-02,  7.07224309e-02,\n",
      "        3.15753482e-02, -5.91379814e-02,  5.48833683e-02,  1.63166493e-01,\n",
      "        3.47594880e-02,  2.78753731e-02,  7.12677166e-02, -6.94633089e-03,\n",
      "       -5.29043563e-02,  1.16190510e-02, -2.68349871e-02,  2.89542992e-02,\n",
      "        4.34469245e-02, -7.01200068e-02, -5.87939806e-02, -3.92194167e-02,\n",
      "       -1.72939189e-02, -3.00544892e-02, -8.11251998e-02, -4.50621210e-02,\n",
      "        5.24961725e-02, -4.92357165e-02,  8.05211961e-02,  6.58550560e-02,\n",
      "       -6.08156202e-04, -4.56641279e-02,  3.05869747e-02, -6.38607983e-03,\n",
      "       -3.17557603e-02,  8.22880398e-03,  1.07610058e-02,  1.04128942e-03,\n",
      "        1.90786682e-02,  3.22798602e-02, -1.44087123e-02,  3.57979797e-02,\n",
      "       -7.22818524e-02,  3.36329788e-02,  6.66355621e-03, -1.82062443e-02,\n",
      "       -2.04362497e-02, -2.63538701e-03, -1.85477152e-01,  1.24492887e-02,\n",
      "        2.97313612e-02, -3.85485329e-02, -9.75336414e-03, -1.36943636e-02,\n",
      "        9.18336306e-03,  8.48891884e-02,  1.27218843e-01,  5.54599836e-02,\n",
      "       -4.93616648e-02, -1.19120097e-02, -5.69793098e-02,  1.04200855e-01,\n",
      "        5.71806394e-02, -1.03950500e-01, -2.37677991e-02, -2.71689612e-02],\n",
      "      dtype=float32)]\n"
     ]
    }
   ],
   "source": [
    "import chromadb\n",
    "from chromadb.utils.embedding_functions import SentenceTransformerEmbeddingFunction\n",
    "\n",
    "embedding_function = SentenceTransformerEmbeddingFunction()\n",
    "print(embedding_function([token_split_texts[10]]))"
   ]
  },
  {
   "cell_type": "code",
   "execution_count": 7,
   "id": "8ba6c8c5-9ce4-44d0-9223-6fdd77871f87",
   "metadata": {
    "height": 132
   },
   "outputs": [
    {
     "data": {
      "text/plain": [
       "349"
      ]
     },
     "execution_count": 7,
     "metadata": {},
     "output_type": "execute_result"
    }
   ],
   "source": [
    "chroma_client = chromadb.Client()\n",
    "chroma_collection = chroma_client.create_collection(\"microsoft_annual_report_2022\", embedding_function=embedding_function)\n",
    "\n",
    "ids = [str(i) for i in range(len(token_split_texts))]\n",
    "\n",
    "chroma_collection.add(ids=ids, documents=token_split_texts)\n",
    "chroma_collection.count()"
   ]
  },
  {
   "cell_type": "code",
   "execution_count": 8,
   "id": "bfdb54db-a442-423c-b006-c33a257cd7d7",
   "metadata": {
    "height": 149
   },
   "outputs": [
    {
     "name": "stdout",
     "output_type": "stream",
     "text": [
      "74 note 13 — unearned revenue unearned revenue by segment was as\n",
      "follows : ( in millions ) june 30, 2022 2021 productivity and business\n",
      "processes $ 24, 558 $ 22, 120 intelligent cloud 19, 371 17, 710 more\n",
      "personal computing 4, 479 4, 311 total $ 48, 408 $ 44, 141 changes in\n",
      "unearned revenue were as follows : ( in millions ) year ended june 30,\n",
      "2022 balance, beginning of period $ 44, 141 deferral of revenue 110,\n",
      "455 recognition of unearned revenue ( 106, 188 ) balance, end of period\n",
      "$ 48, 408 revenue allocated to remaining performance obligations, which\n",
      "includes unearned revenue and amounts that will be invoiced and\n",
      "recognized as revenue in future periods, was $ 193 billion as of june\n",
      "30, 2022, of which $ 189 billion is related to the commercial portion\n",
      "of revenue. we expect to recognize approximately 45 % of this revenue\n",
      "over the next 12 months and the remainder thereafter. note 14 — leases\n",
      "\n",
      "\n",
      "that are not sold separately. • we tested the mathematical accuracy of\n",
      "management ’ s calculations of revenue and the associated timing of\n",
      "revenue recognized in the financial statements.\n",
      "\n",
      "\n",
      "82 in addition, certain costs incurred at a corporate level that are\n",
      "identifiable and that benefit our segments are allocated to them. these\n",
      "allocated costs include legal, including settlements and fines,\n",
      "information technology, human resources, finance, excise taxes, field\n",
      "selling, shared facilities services, and customer service and support.\n",
      "each allocation is measured differently based on the specific facts and\n",
      "circumstances of the costs being allocated. segment revenue and\n",
      "operating income were as follows during the periods presented : ( in\n",
      "millions ) year ended june 30, 2022 2021 2020 revenue productivity and\n",
      "business processes $ 63, 364 $ 53, 915 $ 46, 398 intelligent cloud 75,\n",
      "251 60, 080 48, 366 more personal computing 59, 655 54, 093 48, 251\n",
      "total $ 198, 270 $ 168, 088 $ 143, 015 operating income productivity\n",
      "and business processes $ 29, 687 $ 24, 351 $ 18, 724\n",
      "\n",
      "\n",
      "47 financial statements and supplementary data income statements ( in\n",
      "millions, except per share amounts ) year ended june 30, 2022 2021 2020\n",
      "revenue : product $ 72, 732 $ 71, 074 $ 68, 041 service and other 125,\n",
      "538 97, 014 74, 974 total revenue 198, 270 168, 088 143, 015 cost of\n",
      "revenue : product 19, 064 18, 219 16, 017 service and other 43, 586 34,\n",
      "013 30, 061 total cost of revenue 62, 650 52, 232 46, 078 gross margin\n",
      "135, 620 115, 856 96, 937 research and development 24, 512 20, 716 19,\n",
      "269 sales and marketing 21, 825 20, 117 19, 598 general and\n",
      "administrative 5, 900 5, 107 5, 111 operating income 83, 383 69, 916\n",
      "52, 959 other income, net 333 1, 186 77 income before income taxes 83,\n",
      "716 71, 102 53, 036 provision for income taxes 10, 978 9, 831 8, 755\n",
      "net income $ 72, 738 $ 61, 271 $ 44, 281\n",
      "\n",
      "\n",
      "intelligent cloud 32, 721 26, 126 18, 324 more personal computing 20,\n",
      "975 19, 439 15, 911 total $ 83, 383 $ 69, 916 $ 52, 959 no sales to an\n",
      "individual customer or country other than the united states accounted\n",
      "for more than 10 % of revenue for fiscal years 2022, 2021, or 2020.\n",
      "revenue, classified by the major geographic areas in which our\n",
      "customers were located, was as follows : ( in millions ) year ended\n",
      "june 30, 2022 2021 2020 united states ( a ) $ 100, 218 $ 83, 953 $ 73,\n",
      "160 other countries 98, 052 84, 135 69, 855 total $ 198, 270 $ 168, 088\n",
      "$ 143, 015 ( a ) includes billings to oems and certain multinational\n",
      "organizations because of the nature of these businesses and the\n",
      "impracticability of determining the geographic source of the revenue.\n",
      "revenue, classified by significant product and service offerings, was\n",
      "as follows : ( in millions ) year ended june 30, 2022 2021 2020\n",
      "\n",
      "\n"
     ]
    }
   ],
   "source": [
    "query = \"What was the total revenue?\"\n",
    "\n",
    "results = chroma_collection.query(query_texts=[query], n_results=5)\n",
    "retrieved_documents = results['documents'][0]\n",
    "\n",
    "for document in retrieved_documents:\n",
    "    print(word_wrap(document))\n",
    "    print('\\n')"
   ]
  },
  {
   "cell_type": "code",
   "execution_count": 9,
   "id": "377a84aa-1d93-4e97-9b2d-d59c46355338",
   "metadata": {
    "height": 166
   },
   "outputs": [],
   "source": [
    "import os\n",
    "import openai\n",
    "from openai import OpenAI\n",
    "\n",
    "from dotenv import load_dotenv, find_dotenv\n",
    "_ = load_dotenv(find_dotenv()) # read local .env file\n",
    "openai.api_key = os.environ['OPENAI_API_KEY']\n",
    "\n",
    "openai_client = OpenAI()"
   ]
  },
  {
   "cell_type": "code",
   "execution_count": 10,
   "id": "ba0ed8ca-6640-4c09-9cb3-9de5e7cf46dc",
   "metadata": {
    "height": 319
   },
   "outputs": [],
   "source": [
    "def rag(query, retrieved_documents, model=\"gpt-3.5-turbo\"):\n",
    "    information = \"\\n\\n\".join(retrieved_documents)\n",
    "\n",
    "    messages = [\n",
    "        {\n",
    "            \"role\": \"system\",\n",
    "            \"content\": \"You are a helpful expert financial research assistant. Your users are asking questions about information contained in an annual report.\"\n",
    "            \"You will be shown the user's question, and the relevant information from the annual report. Answer the user's question using only this information.\"\n",
    "        },\n",
    "        {\"role\": \"user\", \"content\": f\"Question: {query}. \\n Information: {information}\"}\n",
    "    ]\n",
    "    \n",
    "    response = openai_client.chat.completions.create(\n",
    "        model=model,\n",
    "        messages=messages,\n",
    "    )\n",
    "    content = response.choices[0].message.content\n",
    "    return content"
   ]
  },
  {
   "cell_type": "code",
   "execution_count": 11,
   "id": "28bac3a2-0d29-48dc-9b48-2d9313239a25",
   "metadata": {
    "height": 64
   },
   "outputs": [
    {
     "name": "stdout",
     "output_type": "stream",
     "text": [
      "Total revenue for the company for the year ended June 30, 2022, was\n",
      "$198,270 million.\n"
     ]
    }
   ],
   "source": [
    "output = rag(query=query, retrieved_documents=retrieved_documents)\n",
    "\n",
    "print(word_wrap(output))"
   ]
  }
 ],
 "metadata": {
  "kernelspec": {
   "display_name": ".venv",
   "language": "python",
   "name": "python3"
  },
  "language_info": {
   "codemirror_mode": {
    "name": "ipython",
    "version": 3
   },
   "file_extension": ".py",
   "mimetype": "text/x-python",
   "name": "python",
   "nbconvert_exporter": "python",
   "pygments_lexer": "ipython3",
   "version": "3.13.2"
  }
 },
 "nbformat": 4,
 "nbformat_minor": 5
}
